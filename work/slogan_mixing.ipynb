{
 "cells": [
  {
   "cell_type": "code",
   "execution_count": 5,
   "metadata": {},
   "outputs": [],
   "source": [
    "import numpy as np\n",
    "from nltk.stem import PorterStemmer\n",
    "from sklearn.feature_extraction.text import TfidfVectorizer\n",
    "import pandas as pd\n",
    "from sklearn.decomposition import TruncatedSVD\n",
    "from sklearn.preprocessing import Normalizer"
   ]
  },
  {
   "cell_type": "code",
   "execution_count": 2,
   "metadata": {},
   "outputs": [],
   "source": [
    "import string\n",
    "\n",
    "from nltk.tokenize import TreebankWordTokenizer\n",
    "from nltk.tokenize import word_tokenize\n",
    "from nltk.tokenize import sent_tokenize\n",
    "from nltk.util import ngrams\n",
    "from nltk.tokenize import RegexpTokenizer\n",
    "\n",
    "from nltk.stem import PorterStemmer\n",
    "\n",
    "from sklearn.feature_extraction.text import CountVectorizer\n",
    "\n",
    "class text_processor:\n",
    "\n",
    "    def __init__(self, remover_function=None, tokenizer_function=None, \n",
    "                 cleaning_function=None, stemmer_function=None,\n",
    "                     vectorizer_function = CountVectorizer()):\n",
    "        self.remover = remover_function\n",
    "        self.tokenizer = tokenizer_function\n",
    "        self.cleaner = cleaning_function\n",
    "        self.stemmer = stemmer_function\n",
    "        self.vectorizer = vectorizer_function\n",
    "\n",
    "\n",
    "        if remover_function == 'no_punctuation':\n",
    "            self.remover = self.no_punctuation\n",
    "        if tokenizer_function == 'tk_word':\n",
    "            self.tokenizer = self.tk_word\n",
    "        if not tokenizer_function:\n",
    "            self.tokenizer = self.splitter\n",
    "        if cleaning_function == 'lowstem':\n",
    "            self.cleaner = self.lowstem\n",
    "                \n",
    "   # cleaning functions\n",
    "\n",
    "    def lower(self,X):\n",
    "        sentences = []\n",
    "        for sentence in X:\n",
    "            sentences.append(sentence.lower()) \n",
    "        return sentences\n",
    "\n",
    "\n",
    "    def no_punctuation(self,X):\n",
    "    # remove the punctuation\n",
    "        pos = []\n",
    "        for sentence in X:\n",
    "            for punc in string.punctuation:\n",
    "                sentence = sentence.replace(punc,'')\n",
    "            pos.append(sentence)\n",
    "        return pos\n",
    "    \n",
    " # tokenizer functions   \n",
    "    \n",
    "    def tk_word(self,X):\n",
    "        vocabulary = []\n",
    "        for x in X:\n",
    "            vocabulary.append(word_tokenize(x)) \n",
    "        return vocabulary        \n",
    "    \n",
    "    \n",
    "    def splitter(self, text):\n",
    "        \"\"\"\n",
    "        Default tokenizer that splits on spaces naively\n",
    "        \"\"\"\n",
    "        return text.split(' ')\n",
    "\n",
    "   # stemmer function\n",
    "    \n",
    "\n",
    "    def stem(self,X):\n",
    "        stemmed = []\n",
    "        for word in (X):\n",
    "            stem_word = stemmer.stem(word)\n",
    "            stemmed.append(stem_word)\n",
    "        return stemmed\n",
    "\n",
    "\n",
    "    \n",
    "    \n",
    "    # vectorizing function\n",
    "    def vectorize(self, X):\n",
    "        self.vectorizer.fit(X)\n",
    "        self.columns=self.vectorizer.get_feature_names()\n",
    "        return self.vectorizer.transform(X).toarray()\n",
    "        \n",
    "        \n",
    "    def fit(self,X):\n",
    "        clear_text = self.remover(X)\n",
    "        clear_text = self.lower(clear_text)\n",
    "#        clear_text = self.stem(clear_text)\n",
    "        self.matrix = self.vectorize(clear_text)\n",
    "   \n",
    " "
   ]
  },
  {
   "cell_type": "code",
   "execution_count": 3,
   "metadata": {},
   "outputs": [],
   "source": [
    "nlp = text_processor(remover_function='no_punctuation',tokenizer_function = 'tk_word'\n",
    "                    ,stemmer_function = PorterStemmer,\n",
    "#                    vectorizer_function=TfidfVectorizer(min_df=0.3, max_df=0.8))\n",
    "                    vectorizer_function=TfidfVectorizer(min_df=0, max_df=1))"
   ]
  },
  {
   "cell_type": "code",
   "execution_count": 7,
   "metadata": {},
   "outputs": [],
   "source": [
    "df = pd.read_excel('./data/bukowski.xlsx')\n",
    "X = df['verses']\n",
    "pos = ['Cannot beat the real thing' ]\n",
    "for x in X:\n",
    "    for punc in string.punctuation:\n",
    "        x = x.replace(punc,'')\n",
    "    pos.append(x)"
   ]
  },
  {
   "cell_type": "code",
   "execution_count": 8,
   "metadata": {},
   "outputs": [],
   "source": [
    "nlp.fit(pos)\n",
    "pos_matrix = nlp.matrix\n",
    "pos_columns = nlp.columns"
   ]
  },
  {
   "cell_type": "code",
   "execution_count": 9,
   "metadata": {},
   "outputs": [],
   "source": [
    "lsa = TruncatedSVD(2, algorithm = 'arpack')\n",
    "dtm_lsa = lsa.fit_transform(pos_matrix)\n",
    "dtm_lsa = Normalizer(copy=False).fit_transform(dtm_lsa)"
   ]
  },
  {
   "cell_type": "code",
   "execution_count": 27,
   "metadata": {},
   "outputs": [],
   "source": [
    "pd.DataFrame(lsa.components_.round(5),\n",
    "             index = [\"component_1\",\"component_2\"],columns = pos_columns)\n",
    "df3 = pd.DataFrame(dtm_lsa.round(5), index = pos, columns = [\"component_1\",\"component_2\" ])"
   ]
  },
  {
   "cell_type": "code",
   "execution_count": 28,
   "metadata": {},
   "outputs": [
    {
     "data": {
      "text/html": [
       "<div>\n",
       "<style scoped>\n",
       "    .dataframe tbody tr th:only-of-type {\n",
       "        vertical-align: middle;\n",
       "    }\n",
       "\n",
       "    .dataframe tbody tr th {\n",
       "        vertical-align: top;\n",
       "    }\n",
       "\n",
       "    .dataframe thead th {\n",
       "        text-align: right;\n",
       "    }\n",
       "</style>\n",
       "<table border=\"1\" class=\"dataframe\">\n",
       "  <thead>\n",
       "    <tr style=\"text-align: right;\">\n",
       "      <th></th>\n",
       "      <th>component_1</th>\n",
       "      <th>component_2</th>\n",
       "    </tr>\n",
       "  </thead>\n",
       "  <tbody>\n",
       "    <tr>\n",
       "      <th>Cannot beat the real thing</th>\n",
       "      <td>-0.69747</td>\n",
       "      <td>0.71661</td>\n",
       "    </tr>\n",
       "    <tr>\n",
       "      <th>don’t ever get the idea I am a poet you can see me</th>\n",
       "      <td>0.90037</td>\n",
       "      <td>0.43512</td>\n",
       "    </tr>\n",
       "    <tr>\n",
       "      <th>at the racetrack any day half drunk</th>\n",
       "      <td>-0.96392</td>\n",
       "      <td>0.26621</td>\n",
       "    </tr>\n",
       "    <tr>\n",
       "      <th>betting quarters sidewheelers and straight thoroughs</th>\n",
       "      <td>0.84119</td>\n",
       "      <td>-0.54074</td>\n",
       "    </tr>\n",
       "    <tr>\n",
       "      <th>but let me tell you there are some women there</th>\n",
       "      <td>-0.95226</td>\n",
       "      <td>-0.30528</td>\n",
       "    </tr>\n",
       "  </tbody>\n",
       "</table>\n",
       "</div>"
      ],
      "text/plain": [
       "                                                    component_1  component_2\n",
       "Cannot beat the real thing                             -0.69747      0.71661\n",
       "don’t ever get the idea I am a poet you can see...      0.90037      0.43512\n",
       "at the racetrack any day half drunk                    -0.96392      0.26621\n",
       "betting quarters sidewheelers and straight thor...      0.84119     -0.54074\n",
       "but let me tell you there are some women there         -0.95226     -0.30528"
      ]
     },
     "execution_count": 28,
     "metadata": {},
     "output_type": "execute_result"
    }
   ],
   "source": [
    "df3.head()"
   ]
  },
  {
   "cell_type": "code",
   "execution_count": null,
   "metadata": {},
   "outputs": [],
   "source": []
  },
  {
   "cell_type": "code",
   "execution_count": 29,
   "metadata": {},
   "outputs": [
    {
     "data": {
      "text/html": [
       "<div>\n",
       "<style scoped>\n",
       "    .dataframe tbody tr th:only-of-type {\n",
       "        vertical-align: middle;\n",
       "    }\n",
       "\n",
       "    .dataframe tbody tr th {\n",
       "        vertical-align: top;\n",
       "    }\n",
       "\n",
       "    .dataframe thead th {\n",
       "        text-align: right;\n",
       "    }\n",
       "</style>\n",
       "<table border=\"1\" class=\"dataframe\">\n",
       "  <thead>\n",
       "    <tr style=\"text-align: right;\">\n",
       "      <th></th>\n",
       "      <th>component_1</th>\n",
       "      <th>component_2</th>\n",
       "    </tr>\n",
       "  </thead>\n",
       "  <tbody>\n",
       "    <tr>\n",
       "      <th>the impossibility the impossibility</th>\n",
       "      <td>1.0</td>\n",
       "      <td>-0.0</td>\n",
       "    </tr>\n",
       "    <tr>\n",
       "      <th>poison mushrooms its a bad time</th>\n",
       "      <td>1.0</td>\n",
       "      <td>-0.0</td>\n",
       "    </tr>\n",
       "    <tr>\n",
       "      <th>out of the arms of one love</th>\n",
       "      <td>1.0</td>\n",
       "      <td>-0.0</td>\n",
       "    </tr>\n",
       "    <tr>\n",
       "      <th>they run out the trash bins</th>\n",
       "      <td>1.0</td>\n",
       "      <td>-0.0</td>\n",
       "    </tr>\n",
       "    <tr>\n",
       "      <th>are they</th>\n",
       "      <td>1.0</td>\n",
       "      <td>-0.0</td>\n",
       "    </tr>\n",
       "  </tbody>\n",
       "</table>\n",
       "</div>"
      ],
      "text/plain": [
       "                                     component_1  component_2\n",
       "the impossibility the impossibility          1.0         -0.0\n",
       "poison mushrooms its a bad time              1.0         -0.0\n",
       "out of the arms of one love                  1.0         -0.0\n",
       "they run out the trash bins                  1.0         -0.0\n",
       "are they                                     1.0         -0.0"
      ]
     },
     "execution_count": 29,
     "metadata": {},
     "output_type": "execute_result"
    }
   ],
   "source": [
    "df4 = df3.nlargest(573, 'component_1')\n",
    "df4.head()"
   ]
  },
  {
   "cell_type": "code",
   "execution_count": 30,
   "metadata": {},
   "outputs": [
    {
     "data": {
      "text/plain": [
       "413"
      ]
     },
     "execution_count": 30,
     "metadata": {},
     "output_type": "execute_result"
    }
   ],
   "source": [
    "df4 = df4.reset_index()\n",
    "mask1 = (df4['index'] == \"Cannot beat the real thing\")\n",
    "df4[mask1].index[0]"
   ]
  },
  {
   "cell_type": "code",
   "execution_count": 33,
   "metadata": {},
   "outputs": [
    {
     "data": {
      "text/plain": [
       "'be watched'"
      ]
     },
     "execution_count": 33,
     "metadata": {},
     "output_type": "execute_result"
    }
   ],
   "source": [
    "df4.iloc[414]['index']"
   ]
  },
  {
   "cell_type": "code",
   "execution_count": 35,
   "metadata": {},
   "outputs": [
    {
     "data": {
      "text/plain": [
       "'pages'"
      ]
     },
     "execution_count": 35,
     "metadata": {},
     "output_type": "execute_result"
    }
   ],
   "source": [
    "df4.iloc[412]['index']"
   ]
  },
  {
   "cell_type": "code",
   "execution_count": 36,
   "metadata": {},
   "outputs": [
    {
     "data": {
      "text/plain": [
       "'Cannot beat the real thing'"
      ]
     },
     "execution_count": 36,
     "metadata": {},
     "output_type": "execute_result"
    }
   ],
   "source": [
    "df4.iloc[413]['index']"
   ]
  },
  {
   "cell_type": "code",
   "execution_count": 65,
   "metadata": {},
   "outputs": [],
   "source": [
    "def generator(text):\n",
    "    \n",
    "    df = pd.read_excel('./data/bukowski1.xlsx')\n",
    "    X = df['verses']\n",
    "    pos = [text]\n",
    "    for x in X:\n",
    "        for punc in string.punctuation:\n",
    "            x = x.replace(punc,'')\n",
    "        pos.append(x)\n",
    "    nlp.fit(pos)\n",
    "    pos_matrix = nlp.matrix\n",
    "    pos_columns = nlp.columns\n",
    "    lsa = TruncatedSVD(2, algorithm = 'arpack')\n",
    "    dtm_lsa = lsa.fit_transform(pos_matrix)\n",
    "    dtm_lsa = Normalizer(copy=False).fit_transform(dtm_lsa)\n",
    "    pd.DataFrame(lsa.components_.round(5),\n",
    "                 index = [\"component_1\",\"component_2\"],columns = pos_columns)\n",
    "    df3 = pd.DataFrame(dtm_lsa.round(5), index = pos, columns = [\"component_1\",\"component_2\" ])\n",
    "    df4 = df3.nlargest(len(df3), 'component_1')\n",
    "    df4 = df4.reset_index()\n",
    "    mask1 = (df4['index'] == text)\n",
    "    n = df4[mask1].index[0]\n",
    "    df5 = df3.nlargest(len(df3), 'component_2')\n",
    "    df5 = df5.reset_index()\n",
    "    mask5 = (df5['index'] == text)\n",
    "    m = df5[mask5].index[0]\n",
    "\n",
    "    return (df4.iloc[n+1]['index'])"
   ]
  },
  {
   "cell_type": "code",
   "execution_count": 100,
   "metadata": {},
   "outputs": [
    {
     "data": {
      "text/plain": [
       "' its the worst'"
      ]
     },
     "execution_count": 100,
     "metadata": {},
     "output_type": "execute_result"
    }
   ],
   "source": [
    "generator(\"Cannot beat the real thing\")"
   ]
  },
  {
   "cell_type": "code",
   "execution_count": 103,
   "metadata": {},
   "outputs": [
    {
     "data": {
      "text/plain": [
       "' avocados tomatoes cucumbers '"
      ]
     },
     "execution_count": 103,
     "metadata": {},
     "output_type": "execute_result"
    }
   ],
   "source": [
    "generator(\"People. Passion. Possibilities\")"
   ]
  },
  {
   "cell_type": "code",
   "execution_count": 97,
   "metadata": {},
   "outputs": [
    {
     "data": {
      "text/plain": [
       "' out of there'"
      ]
     },
     "execution_count": 97,
     "metadata": {},
     "output_type": "execute_result"
    }
   ],
   "source": [
    "generator(\"just do it\")"
   ]
  },
  {
   "cell_type": "code",
   "execution_count": 80,
   "metadata": {},
   "outputs": [
    {
     "data": {
      "text/plain": [
       "' just then the supervisor walked up and said'"
      ]
     },
     "execution_count": 80,
     "metadata": {},
     "output_type": "execute_result"
    }
   ],
   "source": [
    "generator(\"don't be evil\")"
   ]
  },
  {
   "cell_type": "code",
   "execution_count": 84,
   "metadata": {},
   "outputs": [
    {
     "data": {
      "text/plain": [
       "' I have died too many times'"
      ]
     },
     "execution_count": 84,
     "metadata": {},
     "output_type": "execute_result"
    }
   ],
   "source": [
    "generator(\"Cannot beat the real thing\")"
   ]
  },
  {
   "cell_type": "code",
   "execution_count": 85,
   "metadata": {},
   "outputs": [
    {
     "data": {
      "text/plain": [
       "<bound method Kernel.raw_input of <ipykernel.ipkernel.IPythonKernel object at 0x10eafd668>>"
      ]
     },
     "execution_count": 85,
     "metadata": {},
     "output_type": "execute_result"
    }
   ],
   "source": [
    "input"
   ]
  },
  {
   "cell_type": "code",
   "execution_count": 92,
   "metadata": {},
   "outputs": [],
   "source": [
    "def verse():\n",
    "    x = input()\n",
    "    return generator(x)"
   ]
  },
  {
   "cell_type": "code",
   "execution_count": 105,
   "metadata": {},
   "outputs": [
    {
     "name": "stdout",
     "output_type": "stream",
     "text": [
      "don't leave home without it\n"
     ]
    },
    {
     "data": {
      "text/plain": [
       "' and a potbelly'"
      ]
     },
     "execution_count": 105,
     "metadata": {},
     "output_type": "execute_result"
    }
   ],
   "source": [
    "verse()"
   ]
  },
  {
   "cell_type": "code",
   "execution_count": null,
   "metadata": {},
   "outputs": [],
   "source": []
  }
 ],
 "metadata": {
  "kernelspec": {
   "display_name": "Python 3",
   "language": "python",
   "name": "python3"
  },
  "language_info": {
   "codemirror_mode": {
    "name": "ipython",
    "version": 3
   },
   "file_extension": ".py",
   "mimetype": "text/x-python",
   "name": "python",
   "nbconvert_exporter": "python",
   "pygments_lexer": "ipython3",
   "version": "3.6.5"
  }
 },
 "nbformat": 4,
 "nbformat_minor": 2
}
