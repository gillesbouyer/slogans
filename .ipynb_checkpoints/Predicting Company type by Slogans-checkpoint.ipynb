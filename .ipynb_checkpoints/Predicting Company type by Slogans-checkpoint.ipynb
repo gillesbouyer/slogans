{
 "cells": [
  {
   "cell_type": "code",
   "execution_count": 1,
   "metadata": {},
   "outputs": [],
   "source": [
    "import numpy as np\n",
    "import sklearn\n",
    "import matplotlib as plt\n",
    "%matplotlib inline\n",
    "import pandas as pd\n",
    "import sys\n",
    "import nltk"
   ]
  },
  {
   "cell_type": "code",
   "execution_count": 2,
   "metadata": {},
   "outputs": [
    {
     "name": "stdout",
     "output_type": "stream",
     "text": [
      "/Users/i0s6026/Documents/Python/metis/Fletcher Project\r\n"
     ]
    }
   ],
   "source": [
    "!pwd"
   ]
  },
  {
   "cell_type": "code",
   "execution_count": 3,
   "metadata": {},
   "outputs": [],
   "source": [
    "df = pd.read_excel('./data/aug18slogan.xlsx')"
   ]
  },
  {
   "cell_type": "code",
   "execution_count": 4,
   "metadata": {},
   "outputs": [
    {
     "data": {
      "text/html": [
       "<div>\n",
       "<style scoped>\n",
       "    .dataframe tbody tr th:only-of-type {\n",
       "        vertical-align: middle;\n",
       "    }\n",
       "\n",
       "    .dataframe tbody tr th {\n",
       "        vertical-align: top;\n",
       "    }\n",
       "\n",
       "    .dataframe thead th {\n",
       "        text-align: right;\n",
       "    }\n",
       "</style>\n",
       "<table border=\"1\" class=\"dataframe\">\n",
       "  <thead>\n",
       "    <tr style=\"text-align: right;\">\n",
       "      <th></th>\n",
       "      <th>COMPANY</th>\n",
       "      <th>SLOGAN</th>\n",
       "      <th>SectorId</th>\n",
       "      <th>URL</th>\n",
       "      <th>Telecommunication Services</th>\n",
       "      <th>GICS_SubIndustry</th>\n",
       "      <th>WORDS</th>\n",
       "      <th>Unnamed: 7</th>\n",
       "    </tr>\n",
       "  </thead>\n",
       "  <tbody>\n",
       "    <tr>\n",
       "      <th>0</th>\n",
       "      <td>3M Company</td>\n",
       "      <td>Science. Applied to life.</td>\n",
       "      <td>20</td>\n",
       "      <td>3M Company</td>\n",
       "      <td>Industrials</td>\n",
       "      <td>Industrial Conglomerates</td>\n",
       "      <td>4.0</td>\n",
       "      <td>NaN</td>\n",
       "    </tr>\n",
       "    <tr>\n",
       "      <th>1</th>\n",
       "      <td>A&amp;P</td>\n",
       "      <td>At the A&amp;P, we watch our P's and Q's.</td>\n",
       "      <td>30</td>\n",
       "      <td>A&amp;P</td>\n",
       "      <td>Consumer Staples</td>\n",
       "      <td>NaN</td>\n",
       "      <td>NaN</td>\n",
       "      <td></td>\n",
       "    </tr>\n",
       "    <tr>\n",
       "      <th>2</th>\n",
       "      <td>Abbott Laboratories</td>\n",
       "      <td>Life. To the fullest.</td>\n",
       "      <td>35</td>\n",
       "      <td>Abbott Laboratories</td>\n",
       "      <td>Health Care</td>\n",
       "      <td>Health Care Equipment</td>\n",
       "      <td>4.0</td>\n",
       "      <td>NaN</td>\n",
       "    </tr>\n",
       "    <tr>\n",
       "      <th>3</th>\n",
       "      <td>AbbVie</td>\n",
       "      <td>People. Passion. Possibilities.</td>\n",
       "      <td>35</td>\n",
       "      <td>AbbVie Inc.</td>\n",
       "      <td>Health Care</td>\n",
       "      <td>Pharmaceuticals</td>\n",
       "      <td>3.0</td>\n",
       "      <td>NaN</td>\n",
       "    </tr>\n",
       "    <tr>\n",
       "      <th>4</th>\n",
       "      <td>ABN AMRO Bank</td>\n",
       "      <td>Making More Possible</td>\n",
       "      <td>40</td>\n",
       "      <td>NaN</td>\n",
       "      <td>Financials</td>\n",
       "      <td>NaN</td>\n",
       "      <td>NaN</td>\n",
       "      <td>NaN</td>\n",
       "    </tr>\n",
       "  </tbody>\n",
       "</table>\n",
       "</div>"
      ],
      "text/plain": [
       "               COMPANY                                 SLOGAN  SectorId  \\\n",
       "0           3M Company              Science. Applied to life.        20   \n",
       "1                  A&P  At the A&P, we watch our P's and Q's.        30   \n",
       "2  Abbott Laboratories                  Life. To the fullest.        35   \n",
       "3               AbbVie        People. Passion. Possibilities.        35   \n",
       "4       ABN AMRO Bank                    Making More Possible        40   \n",
       "\n",
       "                   URL Telecommunication Services          GICS_SubIndustry  \\\n",
       "0           3M Company                Industrials  Industrial Conglomerates   \n",
       "1                  A&P           Consumer Staples                       NaN   \n",
       "2  Abbott Laboratories                Health Care     Health Care Equipment   \n",
       "3          AbbVie Inc.                Health Care           Pharmaceuticals   \n",
       "4                  NaN                 Financials                       NaN   \n",
       "\n",
       "   WORDS Unnamed: 7  \n",
       "0    4.0        NaN  \n",
       "1    NaN             \n",
       "2    4.0        NaN  \n",
       "3    3.0        NaN  \n",
       "4    NaN        NaN  "
      ]
     },
     "execution_count": 4,
     "metadata": {},
     "output_type": "execute_result"
    }
   ],
   "source": [
    "df.head()"
   ]
  },
  {
   "cell_type": "code",
   "execution_count": 5,
   "metadata": {},
   "outputs": [],
   "source": [
    "X = df['SLOGAN']\n",
    "y = df['SectorId']"
   ]
  },
  {
   "cell_type": "code",
   "execution_count": 6,
   "metadata": {},
   "outputs": [],
   "source": [
    "from sklearn.model_selection import train_test_split\n",
    "X_train, X_test, y_train, y_test = train_test_split(X, y, test_size=0.1, random_state=42)"
   ]
  },
  {
   "cell_type": "code",
   "execution_count": 7,
   "metadata": {},
   "outputs": [],
   "source": [
    "from nltk.corpus import stopwords\n",
    "from nltk.stem import porter\n",
    "import string\n",
    "stemmer = porter.PorterStemmer()\n",
    "\n",
    "stopwords = stopwords.words()"
   ]
  },
  {
   "cell_type": "code",
   "execution_count": 8,
   "metadata": {},
   "outputs": [
    {
     "data": {
      "text/plain": [
       "['bob builder', 'strang', 'cartoon type thing']"
      ]
     },
     "execution_count": 8,
     "metadata": {},
     "output_type": "execute_result"
    }
   ],
   "source": [
    "def clean_text(text):\n",
    "    cleaned_text = []\n",
    "    for post in text:\n",
    "        cleaned_words = []\n",
    "        post = post.replace(\"’\",'')\n",
    "        for punc in string.punctuation:\n",
    "            post = post.replace(punc,'')\n",
    "        for word in post.split():\n",
    "            low_word = stemmer.stem(word.lower())\n",
    "            if low_word not in stopwords:\n",
    "                cleaned_words.append(low_word)\n",
    "        cleaned_text.append(' '.join(cleaned_words))\n",
    "    return cleaned_text\n",
    "\n",
    "clean_text(['BOB the builder', 'is a strange', 'caRtoon type thing'])"
   ]
  },
  {
   "cell_type": "code",
   "execution_count": 9,
   "metadata": {},
   "outputs": [],
   "source": [
    "cleaned_text = clean_text(X_train)"
   ]
  },
  {
   "cell_type": "code",
   "execution_count": 10,
   "metadata": {},
   "outputs": [
    {
     "data": {
      "text/plain": [
       "559                                     Life's a Journey\n",
       "120                                Get You There Faster.\n",
       "199    Cable. It's not just more choice, it's your ch...\n",
       "291    The best part of waking up is Folgers in your ...\n",
       "60                                             Apply it.\n",
       "663                                     Applying Thought\n",
       "30                                       Friday Dressing\n",
       "69                         The Business behind business.\n",
       "155                                Intelligent Computing\n",
       "209                                    America's Builder\n",
       "44                                 Where you want to be.\n",
       "70                                 Driven to be the best\n",
       "481                                   Brands That Matter\n",
       "248                      Leading the way in electricity.\n",
       "329    You never get a second chance to make a first ...\n",
       "421                                        Pizza! Pizza!\n",
       "578                                  Flying for everyone\n",
       "357     \" Powered by Intellect, Driven by Values; Imp...\n",
       "182                            The pause that refreshes.\n",
       "286                       Source. Capture. Optimization.\n",
       "65                        The World's Networking Company\n",
       "661                               We make energy happen.\n",
       "49                                    To Serve Patients.\n",
       "158                            Where a kid can be a kid.\n",
       "306                                    Nourishing Lives.\n",
       "39                              Focused Energy. For Life\n",
       "148                    Helping investors help themselves\n",
       "399                      Think Investments. Think Kotak.\n",
       "6                                    We make Great Games\n",
       "231                         Get the door, it's Domino's!\n",
       "                             ...                        \n",
       "474    Helping customers be their best in the moments...\n",
       "560               imagine the amazing things we can buid\n",
       "252                                  Consider it solved.\n",
       "21                                     EMOTIONALLY YOURS\n",
       "313                          The snack that smiles back.\n",
       "459    It's at times like this that Metlife sets itse...\n",
       "160                                 A Business of Caring\n",
       "276                      Gets you back where you belong.\n",
       "191              ConAgra. The right kind of food company\n",
       "385                           Every kiss begins with Kay\n",
       "413                               Everything's Included.\n",
       "491       Energizing the World, Bettering People's Lives\n",
       "343                            We bring the city to life\n",
       "308                                  Get the good stuff.\n",
       "130                                    Essential to care\n",
       "99                                 Forever New Frontiers\n",
       "372                 The Transportation Logistics Company\n",
       "87                               Everything to Entertain\n",
       "458                    Committed to making a difference.\n",
       "330                                   Beanz Meanz Heinz.\n",
       "214                           Nothing runs like a Deere.\n",
       "466                          Shaping the future of steel\n",
       "121                                Agility made possible\n",
       "614                             People-Centered Payments\n",
       "20                                   We are Air Products\n",
       "71                                       Get in the Zone\n",
       "106                                      The Way to Fly.\n",
       "270         You'd be surprised how far we'll go for you.\n",
       "435                             Our source. Your supply.\n",
       "102                              Experienced leadership.\n",
       "Name: SLOGAN, Length: 607, dtype: object"
      ]
     },
     "execution_count": 10,
     "metadata": {},
     "output_type": "execute_result"
    }
   ],
   "source": [
    "X_train"
   ]
  },
  {
   "cell_type": "code",
   "execution_count": 11,
   "metadata": {},
   "outputs": [
    {
     "data": {
      "text/plain": [
       "['life journey',\n",
       " 'get faster',\n",
       " 'cabl choic choic',\n",
       " 'best part wake folger cup',\n",
       " 'appli',\n",
       " 'appli thought',\n",
       " 'friday dress',\n",
       " 'busi behind busi',\n",
       " 'intellig comput',\n",
       " 'america builder',\n",
       " '',\n",
       " 'driven best',\n",
       " 'brand matter',\n",
       " 'lead way electr',\n",
       " 'never get second chanc make first impress',\n",
       " 'pizza pizza',\n",
       " 'fli everyon',\n",
       " 'power intellect driven valu improv odd infosi predict',\n",
       " 'paus refresh',\n",
       " 'sourc captur optim',\n",
       " 'world network compani',\n",
       " 'make energi happen',\n",
       " 'serv patient',\n",
       " 'kid kid',\n",
       " 'nourish live',\n",
       " 'focus energi life',\n",
       " 'help investor help themselv',\n",
       " 'think invest think kotak',\n",
       " 'make great game',\n",
       " 'get domino',\n",
       " 'pride steel',\n",
       " 'diamond forev',\n",
       " 'better benefit work',\n",
       " 'fun fun',\n",
       " 'acceler next',\n",
       " 'readi workday',\n",
       " 'feel better live longer',\n",
       " 'help peopl live healthi live',\n",
       " 'coke',\n",
       " 'leader record inform manag',\n",
       " 'everi connect count',\n",
       " 'help peopl live healthier live',\n",
       " 'neighbor envi',\n",
       " 'welcom human network',\n",
       " 'aep america energi partner',\n",
       " 'fair balanc',\n",
       " 'get',\n",
       " 'make thing make india proud',\n",
       " 'america home aimco',\n",
       " 'health everyth',\n",
       " 'pharmaci america trust',\n",
       " 'think small',\n",
       " 'best place cartoon',\n",
       " 'let discov whi myth safe',\n",
       " '',\n",
       " 'life short stay awak',\n",
       " 'land rise technolog',\n",
       " 'way forward evolv everyday',\n",
       " 'strateg partner global trade',\n",
       " 'invent',\n",
       " 'read bestsel everyday',\n",
       " 'enrich experi life',\n",
       " 'life inspir',\n",
       " 'bring excel surfac',\n",
       " 'provid wireless infrastructur prime locat',\n",
       " 'patient first',\n",
       " 'power tyson',\n",
       " 'global leader commerci sanit solut',\n",
       " 'better dentistri',\n",
       " 'breath fresh air',\n",
       " 'custom success mission',\n",
       " 'thoroughbr',\n",
       " 'premier safeti reliabl servic',\n",
       " 'think arbi',\n",
       " 'welcom new frontier',\n",
       " 'well give edg',\n",
       " 'pioneer safeti around world',\n",
       " 'philosophi way busi',\n",
       " 'allevi pain • restor health • extend life',\n",
       " 'expect stabil',\n",
       " 'peac mindguarante',\n",
       " 'vision get built',\n",
       " 'think skyward',\n",
       " 'drive way',\n",
       " 'creat sustain energi futur arizona',\n",
       " 'middl incom american',\n",
       " 'bring qualiti life',\n",
       " 'find new road',\n",
       " 'keep reinvent',\n",
       " 'sweetest tast earth',\n",
       " 'heard',\n",
       " 'easi',\n",
       " 'fit life',\n",
       " 'health need close home',\n",
       " 'good thing sysco',\n",
       " 'togeth well go far',\n",
       " 'us',\n",
       " 'mayb born mayb maybellin',\n",
       " 'achiev anyth',\n",
       " 'pure sure',\n",
       " 'way',\n",
       " 'help world grow food need',\n",
       " 'alway cocacola',\n",
       " 'global leader scienc heart valv hemodynam monitor',\n",
       " 'game game',\n",
       " 'new experi user experi',\n",
       " 'expert servic unbeat price',\n",
       " 'pentair water',\n",
       " 'let build smarter planet',\n",
       " 'world put stock us',\n",
       " 'empow financi institut global',\n",
       " 'human capit help desk',\n",
       " 'jean built america',\n",
       " 'onli cb',\n",
       " 'go disney world',\n",
       " 'know money',\n",
       " 'dont leav home without',\n",
       " 'appreci valu',\n",
       " 'money live',\n",
       " 'explor intent invest invesco',\n",
       " 'confid connect world',\n",
       " 'world deliv',\n",
       " 'power global',\n",
       " 'help get',\n",
       " 'bond best',\n",
       " 'power busi worldwid',\n",
       " 'think energi think eog',\n",
       " 'well light goe',\n",
       " 'reliabl capit deliv valu',\n",
       " 'absolut posit overnight',\n",
       " 'touch perfect',\n",
       " 'life tast good',\n",
       " 'melt mouth hand',\n",
       " 'perform power reliabl',\n",
       " 'make meaning differ patient live',\n",
       " 'better way fli',\n",
       " 'inspir next',\n",
       " 'go beyond expect',\n",
       " 'think',\n",
       " 'express',\n",
       " 'world premier measur compani',\n",
       " 'fail custom',\n",
       " 'world built',\n",
       " 'everi stori uniqu everi home differ',\n",
       " 'climat smart',\n",
       " 'well take',\n",
       " 'connect discov facebook',\n",
       " 'earthmov solut today challeng',\n",
       " 'gain perspect',\n",
       " 'power side',\n",
       " 'balanc explor acquisit',\n",
       " 'ingenu welcom',\n",
       " 'readi advanc',\n",
       " 'youll find us',\n",
       " 'put first keep ahead',\n",
       " 'keep promis',\n",
       " 'better',\n",
       " 'work global act local',\n",
       " 'protect beautifi world',\n",
       " 'write check make deposit',\n",
       " 'inspir live',\n",
       " 'save',\n",
       " 'gener power',\n",
       " 'unleash energi',\n",
       " 'tough guy',\n",
       " 'discov beyond imagin',\n",
       " 'look weve got hane',\n",
       " 'got peopl',\n",
       " 'driven passion fiat',\n",
       " 'power dream',\n",
       " 'new think',\n",
       " 'plan book perfect trip',\n",
       " 'plop plop fizz fizz oh relief',\n",
       " 'thing go better coke',\n",
       " 'llife well plan',\n",
       " 'redefin aggress',\n",
       " 'make real',\n",
       " 'energi move',\n",
       " 'human energi',\n",
       " 'tri harder',\n",
       " 'programm',\n",
       " 'run tightest ship ship busi',\n",
       " 'opportun favor prepar mind',\n",
       " 'right relationship everyth',\n",
       " 'design world',\n",
       " 'say well',\n",
       " 'trade world',\n",
       " 'real storag expert',\n",
       " 'readi work',\n",
       " 'life research hope',\n",
       " 'custom alway right',\n",
       " 'tomorrow market today',\n",
       " 'manag tomorrow',\n",
       " 'profession part peopl',\n",
       " 'build trust everyday',\n",
       " 'miracl scienc',\n",
       " 'scienc appli life',\n",
       " 'work work better',\n",
       " 'serv prescript need 50 million american',\n",
       " 'mccormick bring passion flavor',\n",
       " 'gold compani',\n",
       " 'sure',\n",
       " 'save time save money everyday',\n",
       " 'reach new height',\n",
       " 'think safeti',\n",
       " 'life good',\n",
       " 'alway',\n",
       " 'global leader modern market solut',\n",
       " 'custom depend us',\n",
       " 'reason job',\n",
       " 'world wise',\n",
       " 'sustain advantag',\n",
       " 'get faster',\n",
       " 'brilliant',\n",
       " 'place peopl proud call home',\n",
       " 'tast life',\n",
       " 'anim health',\n",
       " 'good peopl bank',\n",
       " 'beyond petroleum',\n",
       " 'go',\n",
       " 'way meant play',\n",
       " 'fastest way send money worldwid',\n",
       " 'feel good drive',\n",
       " 'integr respectteamwork creativ',\n",
       " 'thing go better coke',\n",
       " 'enabl intellig planet',\n",
       " 'open happi',\n",
       " 'wouldnt home without hellmann',\n",
       " 'pleas dont squeez charmin',\n",
       " 'love mad lie obsess',\n",
       " 'make thing work',\n",
       " 'passion client success',\n",
       " 'keep challeng',\n",
       " 'vision realiti',\n",
       " 'alway room jello',\n",
       " 'respons natur',\n",
       " 'boy oh boy hasbro toy',\n",
       " 'open futur',\n",
       " 'commit improv live patient worldwid',\n",
       " 'make mobil safer smarter everyday',\n",
       " 'new network',\n",
       " 'move india forward',\n",
       " 'profit',\n",
       " 'scienc medicin',\n",
       " 'know',\n",
       " 'fulli integr self manag self administ reit',\n",
       " 'faster forward world innov doesnt wait technolog',\n",
       " 'reinvent',\n",
       " 'simplic power',\n",
       " 'break today',\n",
       " 'partner life',\n",
       " 'world onlin market place',\n",
       " 'power player',\n",
       " 'enhanc peopl live 130 year',\n",
       " 'real storag expert',\n",
       " 'eat mor chikin',\n",
       " 'rais perform togeth',\n",
       " 'world mattel',\n",
       " 'world sixth sens',\n",
       " 'arent hungri burger king',\n",
       " 'wherev go network follow',\n",
       " 'give coach',\n",
       " 'peopl watch listen buy',\n",
       " 'everyth easier mac',\n",
       " 'posit differ',\n",
       " 'move world',\n",
       " 'relax fedex world time',\n",
       " 'know money',\n",
       " 'pepsi cola',\n",
       " 'expect brillianc',\n",
       " 'power peopl',\n",
       " 'news use',\n",
       " 'driver',\n",
       " 'everyday solut',\n",
       " 'heart commerc',\n",
       " 'even car car',\n",
       " 'think therefor ibm',\n",
       " 'push button publish',\n",
       " 'real',\n",
       " 'easi caveman',\n",
       " 'becaus worth',\n",
       " 'make tomorrow brighter',\n",
       " 'fuell power within',\n",
       " 'let build someth togeth',\n",
       " 'innov excel consult staf',\n",
       " 'high perform deliv',\n",
       " 'authorit resourc safe water',\n",
       " 'talk pay',\n",
       " 'qualiti afford healthcar product',\n",
       " 'romanc bean',\n",
       " 'provid tomorrow energi',\n",
       " 'lead global manufactur electron instrument electromechan devic',\n",
       " 'think green',\n",
       " 'home entertain',\n",
       " 'peopl passion possibl',\n",
       " 'love live',\n",
       " 'feel good feel',\n",
       " 'one get done',\n",
       " 'us',\n",
       " 'thing dream',\n",
       " 'mtv',\n",
       " 'energi work',\n",
       " 'perform action',\n",
       " 'alway someth discov',\n",
       " 'invent futur sinc 1888',\n",
       " 'time',\n",
       " 'creat valu',\n",
       " 'connect tomorrow',\n",
       " 'engag sens',\n",
       " 'everyth 1',\n",
       " 'compani move forward',\n",
       " 'chubb insur',\n",
       " 'energi youll ever need',\n",
       " 'fullyintegr real estat invest trust',\n",
       " 'peopl greatest asset',\n",
       " 'would klondik bar',\n",
       " 'cocacola enjoy',\n",
       " 'obsess qualiti sinc 1897',\n",
       " 'love see smile',\n",
       " 'energi effici expertis',\n",
       " 'demand qualiti deliv valu',\n",
       " 'fuel fire',\n",
       " 'us serv',\n",
       " 'save money live better',\n",
       " 'right partner',\n",
       " 'abc',\n",
       " 'make planet product',\n",
       " 'good bank good citizenship',\n",
       " 'never forget work',\n",
       " 'everyth insur',\n",
       " 'advanc therapeut improv live',\n",
       " 'energi tomorrow',\n",
       " 'food folk fun',\n",
       " 'small busi rejoic',\n",
       " 'perfect experi',\n",
       " 'world leader serv scienc',\n",
       " 'go faster',\n",
       " 'find newer cleaner way power world',\n",
       " 'improv home improv',\n",
       " 'go',\n",
       " 'let discov whi myth safe',\n",
       " 'understand import',\n",
       " 'leadership perform safeti',\n",
       " 'deliv next',\n",
       " 'safer way pay onlin',\n",
       " 'inspir brand intellig world',\n",
       " 'home whopper',\n",
       " 'chang valu equat',\n",
       " 'alway low price alway',\n",
       " 'softwar manag ebusi',\n",
       " 'home entertain',\n",
       " 'good good enough',\n",
       " 'straight heartland',\n",
       " 'partner life',\n",
       " 'make peopl live better unleash power cummin',\n",
       " 'creat shop experi',\n",
       " 'dress less',\n",
       " 'potenti passion',\n",
       " 'proud',\n",
       " 'alway',\n",
       " 'power greener tomorrow',\n",
       " 'dont evil',\n",
       " 'weve got touch',\n",
       " 'serv health peopl',\n",
       " 'bring good thing life',\n",
       " 'develop energi resourc safe profit respons',\n",
       " 'payrol hr retir insur',\n",
       " 'bring energi life',\n",
       " 'onc go mac youll never go back',\n",
       " 'littl dabll',\n",
       " 'chic luxuri sexi fragranc women',\n",
       " 'true love grow',\n",
       " 'document compani',\n",
       " 'qualiti everyth',\n",
       " 'ask sherwinwilliam',\n",
       " 'ga beyond',\n",
       " 'build new technolog compani',\n",
       " 'natur ga win day',\n",
       " 'way shop',\n",
       " 'make make possibl',\n",
       " 'bring best everyon touch',\n",
       " 'make differ',\n",
       " 'intel insid',\n",
       " 'technolog innov',\n",
       " 'work hard fun make histori',\n",
       " 'amaz soup',\n",
       " 'experienc forward think',\n",
       " 'build better futur',\n",
       " 'peopl motion',\n",
       " 'simplifi home life',\n",
       " 'demand',\n",
       " 'floor',\n",
       " 'anticip innov acceler',\n",
       " 'lovin',\n",
       " 'build america',\n",
       " 'rule air',\n",
       " 'hello futur',\n",
       " 'build suppli',\n",
       " 'build futur help',\n",
       " 'chemistri grow',\n",
       " 'touch live improv life',\n",
       " 'bank invest peopl',\n",
       " 'anyth revolv anyth move',\n",
       " 'alway think ahead',\n",
       " 'world',\n",
       " 'clean energi stronger commun',\n",
       " 'breakthrough simplic',\n",
       " 'breath easi',\n",
       " 'better health outcom lower cost',\n",
       " 'power empow commun',\n",
       " 'give break give kit kat',\n",
       " 'make today delici',\n",
       " 'know destin need wise advisor alongsid',\n",
       " 'ultim drive machin',\n",
       " 'ivori soap 99 percent pure',\n",
       " 'london enter differ world',\n",
       " 'make home possibl',\n",
       " 'built road ahead',\n",
       " 'keep go go',\n",
       " 'littl tast heaven',\n",
       " 'reach touch someon',\n",
       " 'real thing',\n",
       " 'spit cremo',\n",
       " 'live like local',\n",
       " 'technolog connect inform protect',\n",
       " 'buy sell love',\n",
       " 'client firstalway',\n",
       " 'everi bubbl pass fizzic',\n",
       " 'serv add valu innov',\n",
       " 'excel execut',\n",
       " 'count us',\n",
       " 'everi littl help',\n",
       " 'youv long way babi',\n",
       " 'id walk mile camel',\n",
       " 'right store right price',\n",
       " 'bring challeng',\n",
       " 'world ralph lauren',\n",
       " 'hook safeti',\n",
       " 'get',\n",
       " 'life better serv',\n",
       " 'togeth transform health trust solut',\n",
       " 'passion perform',\n",
       " 'wallet',\n",
       " 'choos freedom',\n",
       " 'everyth start',\n",
       " 'life',\n",
       " 'sens simplic',\n",
       " 'see breakfast',\n",
       " 'scienc possibl',\n",
       " 'world best',\n",
       " 'take onli pictur leav onli footprint',\n",
       " 'count us',\n",
       " 'defin futur',\n",
       " 'connect india',\n",
       " 'got 30',\n",
       " 'protect peopl reduc risk',\n",
       " 'play',\n",
       " 'redefin possibl',\n",
       " 'grow protect wealth',\n",
       " 'qualiti rememb long price forgotten',\n",
       " 'global asset manag',\n",
       " 'make everyday life better everi day',\n",
       " 'inspir progress',\n",
       " 'energi mean innov',\n",
       " '160 year experi',\n",
       " 'joy fli',\n",
       " 'shortest rout kansa salt water',\n",
       " 'save money without think',\n",
       " 'scienc possibl',\n",
       " 'think green',\n",
       " 'small busi credit index',\n",
       " 'guidanc need',\n",
       " 'one energi',\n",
       " 'wynn vega',\n",
       " 'protect hous',\n",
       " 'pro matter',\n",
       " 'symantec',\n",
       " 'get high rate without risk',\n",
       " 'standard puriti',\n",
       " 'creativ beyond imagin',\n",
       " 'dont evil',\n",
       " 'around',\n",
       " 'world advanc',\n",
       " 'smart energi smart grid smart choic',\n",
       " 'self administ self manag real estat invest trust',\n",
       " 'invest excel',\n",
       " 'like store world',\n",
       " 'commit success',\n",
       " 'spirit commerc',\n",
       " 'listen think solv',\n",
       " 'engag us',\n",
       " 'tomorrow move',\n",
       " 'differ kind energi compani',\n",
       " 'stuff life',\n",
       " 'great way fli',\n",
       " 'keep climb',\n",
       " 'make possibl',\n",
       " 'invest compani world',\n",
       " 'monthli dividend compani',\n",
       " 'ultim drive machin',\n",
       " 'innov qualiti conveni',\n",
       " 'everi individu commit',\n",
       " 'becaus right',\n",
       " 'good good',\n",
       " 'vant eat cereal',\n",
       " 'way car buy',\n",
       " 'transform patient live innov',\n",
       " 'invest confid',\n",
       " 'everyday power everyday',\n",
       " 'heart imag',\n",
       " 'whiskey keep walk',\n",
       " 'experi motion',\n",
       " 'innov person',\n",
       " 'integr creativ stabil',\n",
       " 'natur',\n",
       " 'local real estat worldwid',\n",
       " 'steel solut better world',\n",
       " 'never settl',\n",
       " 'mm mm good',\n",
       " 'design protect data',\n",
       " 'look futur',\n",
       " 'assur term',\n",
       " 'ask work',\n",
       " 'food integr',\n",
       " 'go great',\n",
       " 'connect peopl',\n",
       " 'druggist merchant',\n",
       " 'signific scale unparallel footprint',\n",
       " 'partner choic',\n",
       " 'world leader high perform signalprocess',\n",
       " 'scienc sure',\n",
       " 'connect futur',\n",
       " 'inform live',\n",
       " 'life today',\n",
       " 'new sign success',\n",
       " 'person fit renew life',\n",
       " 'book matter',\n",
       " 'got milk',\n",
       " 'stronger good time bad',\n",
       " 'simpl idea power result',\n",
       " 'cost less get',\n",
       " 'trade',\n",
       " 'extend enhanc human life',\n",
       " 'product protect product',\n",
       " 'chicken right',\n",
       " 'ap watch ps qs',\n",
       " 'see everyth',\n",
       " 'better best',\n",
       " 'fluent financ busi know busi',\n",
       " 'endur valu inspir perform',\n",
       " 'good hand',\n",
       " 'oracl inform compani',\n",
       " 'never stop improv',\n",
       " 'deserv break today',\n",
       " 'improv patient outcom',\n",
       " 'transform discoveri',\n",
       " 'help',\n",
       " 'turn idea',\n",
       " 'world local bank',\n",
       " 'cant top copper top',\n",
       " 'global asset manag',\n",
       " 'driven',\n",
       " 'smooth silk',\n",
       " 'finger lickin good',\n",
       " 'take world toughest energi challeng',\n",
       " 'never sleep',\n",
       " 'make world go',\n",
       " 'fair balanc',\n",
       " 'grow truli great compani',\n",
       " 'onli canth media agenc',\n",
       " 'chemistri innov togeth',\n",
       " 'everi day life',\n",
       " 'power live',\n",
       " 'commit busi',\n",
       " 'see believ',\n",
       " 'engin success',\n",
       " 'think differ',\n",
       " 'help custom best moment matter',\n",
       " 'imagin amaz thing buid',\n",
       " 'consid solv',\n",
       " 'emot',\n",
       " 'snack smile back',\n",
       " 'time like metlif set apart',\n",
       " 'busi',\n",
       " 'get back belong',\n",
       " 'conagra right kind food compani',\n",
       " 'everi kiss begin kay',\n",
       " 'everyth includ',\n",
       " 'energ world better peopl live',\n",
       " 'bring life',\n",
       " 'get good stuff',\n",
       " 'essenti',\n",
       " 'forev new frontier',\n",
       " 'transport logist compani',\n",
       " 'everyth entertain',\n",
       " 'commit make differ',\n",
       " 'beanz meanz heinz',\n",
       " 'noth run like deer',\n",
       " 'shape futur steel',\n",
       " 'agil made possibl',\n",
       " 'peoplecent payment',\n",
       " 'air product',\n",
       " 'get zone',\n",
       " 'way fli',\n",
       " 'youd surpris far well go',\n",
       " 'sourc suppli',\n",
       " 'experienc leadership']"
      ]
     },
     "execution_count": 11,
     "metadata": {},
     "output_type": "execute_result"
    }
   ],
   "source": [
    "cleaned_text"
   ]
  },
  {
   "cell_type": "code",
   "execution_count": 12,
   "metadata": {},
   "outputs": [],
   "source": [
    "from sklearn.feature_extraction.text import CountVectorizer\n",
    "\n",
    "count_vectorizer = CountVectorizer(ngram_range=(1, 2), max_df = 0.6, max_features=2000, \n",
    "                                   token_pattern=\"\\\\b[a-z][a-z]+\\\\b\")\n",
    "\n",
    "cv_data = count_vectorizer.fit_transform(cleaned_text)\n"
   ]
  },
  {
   "cell_type": "code",
   "execution_count": 13,
   "metadata": {},
   "outputs": [
    {
     "data": {
      "text/plain": [
       "(607, 1762)"
      ]
     },
     "execution_count": 13,
     "metadata": {},
     "output_type": "execute_result"
    }
   ],
   "source": [
    "dfx_count_vect = pd.DataFrame(cv_data.toarray(), columns=count_vectorizer.get_feature_names())\n",
    "dfx_count_vect.shape"
   ]
  },
  {
   "cell_type": "code",
   "execution_count": 14,
   "metadata": {},
   "outputs": [
    {
     "data": {
      "text/html": [
       "<div>\n",
       "<style scoped>\n",
       "    .dataframe tbody tr th:only-of-type {\n",
       "        vertical-align: middle;\n",
       "    }\n",
       "\n",
       "    .dataframe tbody tr th {\n",
       "        vertical-align: top;\n",
       "    }\n",
       "\n",
       "    .dataframe thead th {\n",
       "        text-align: right;\n",
       "    }\n",
       "</style>\n",
       "<table border=\"1\" class=\"dataframe\">\n",
       "  <thead>\n",
       "    <tr style=\"text-align: right;\">\n",
       "      <th></th>\n",
       "      <th>abc</th>\n",
       "      <th>absolut</th>\n",
       "      <th>absolut posit</th>\n",
       "      <th>acceler</th>\n",
       "      <th>acceler next</th>\n",
       "      <th>achiev</th>\n",
       "      <th>achiev anyth</th>\n",
       "      <th>acquisit</th>\n",
       "      <th>act</th>\n",
       "      <th>act local</th>\n",
       "      <th>...</th>\n",
       "      <th>year experi</th>\n",
       "      <th>youd</th>\n",
       "      <th>youd surpris</th>\n",
       "      <th>youll</th>\n",
       "      <th>youll ever</th>\n",
       "      <th>youll find</th>\n",
       "      <th>youll never</th>\n",
       "      <th>youv</th>\n",
       "      <th>youv long</th>\n",
       "      <th>zone</th>\n",
       "    </tr>\n",
       "  </thead>\n",
       "  <tbody>\n",
       "    <tr>\n",
       "      <th>0</th>\n",
       "      <td>0</td>\n",
       "      <td>0</td>\n",
       "      <td>0</td>\n",
       "      <td>0</td>\n",
       "      <td>0</td>\n",
       "      <td>0</td>\n",
       "      <td>0</td>\n",
       "      <td>0</td>\n",
       "      <td>0</td>\n",
       "      <td>0</td>\n",
       "      <td>...</td>\n",
       "      <td>0</td>\n",
       "      <td>0</td>\n",
       "      <td>0</td>\n",
       "      <td>0</td>\n",
       "      <td>0</td>\n",
       "      <td>0</td>\n",
       "      <td>0</td>\n",
       "      <td>0</td>\n",
       "      <td>0</td>\n",
       "      <td>0</td>\n",
       "    </tr>\n",
       "  </tbody>\n",
       "</table>\n",
       "<p>1 rows × 1762 columns</p>\n",
       "</div>"
      ],
      "text/plain": [
       "   abc  absolut  absolut posit  acceler  acceler next  achiev  achiev anyth  \\\n",
       "0    0        0              0        0             0       0             0   \n",
       "\n",
       "   acquisit  act  act local  ...   year experi  youd  youd surpris  youll  \\\n",
       "0         0    0          0  ...             0     0             0      0   \n",
       "\n",
       "   youll ever  youll find  youll never  youv  youv long  zone  \n",
       "0           0           0            0     0          0     0  \n",
       "\n",
       "[1 rows x 1762 columns]"
      ]
     },
     "execution_count": 14,
     "metadata": {},
     "output_type": "execute_result"
    }
   ],
   "source": [
    "dfx_count_vect.head(1)"
   ]
  },
  {
   "cell_type": "code",
   "execution_count": 15,
   "metadata": {},
   "outputs": [],
   "source": [
    "columns=count_vectorizer.get_feature_names() # to be saved for the model"
   ]
  },
  {
   "cell_type": "code",
   "execution_count": 16,
   "metadata": {},
   "outputs": [
    {
     "data": {
      "text/plain": [
       "1762"
      ]
     },
     "execution_count": 16,
     "metadata": {},
     "output_type": "execute_result"
    }
   ],
   "source": [
    "len(columns)"
   ]
  },
  {
   "cell_type": "code",
   "execution_count": 17,
   "metadata": {},
   "outputs": [
    {
     "data": {
      "text/plain": [
       "'absolut'"
      ]
     },
     "execution_count": 17,
     "metadata": {},
     "output_type": "execute_result"
    }
   ],
   "source": [
    "columns[1]"
   ]
  },
  {
   "cell_type": "code",
   "execution_count": 18,
   "metadata": {},
   "outputs": [
    {
     "data": {
      "text/plain": [
       "MultinomialNB(alpha=1.0, class_prior=None, fit_prior=True)"
      ]
     },
     "execution_count": 18,
     "metadata": {},
     "output_type": "execute_result"
    }
   ],
   "source": [
    "from sklearn.naive_bayes import MultinomialNB\n",
    "# bernouilli does the word appear ?\n",
    "# multinom number of the time it appears\n",
    "nb = MultinomialNB()\n",
    "nb.fit(cv_data, y_train)"
   ]
  },
  {
   "cell_type": "code",
   "execution_count": 19,
   "metadata": {},
   "outputs": [
    {
     "data": {
      "text/plain": [
       "0.3235294117647059"
      ]
     },
     "execution_count": 19,
     "metadata": {},
     "output_type": "execute_result"
    }
   ],
   "source": [
    "cleaned_test = clean_text(X_test)\n",
    "cv_test = count_vectorizer.transform(cleaned_test)\n",
    "\n",
    "nb.score(cv_test, y_test)\n",
    "# 0.35384615384615387 aug 10 data\n",
    "# 0.2994011976047904 aug 14 data"
   ]
  },
  {
   "cell_type": "code",
   "execution_count": 20,
   "metadata": {},
   "outputs": [],
   "source": [
    "from yellowbrick.classifier import ConfusionMatrix\n",
    "from yellowbrick.classifier import ClassificationReport\n",
    "from yellowbrick.classifier import ClassPredictionError"
   ]
  },
  {
   "cell_type": "code",
   "execution_count": 21,
   "metadata": {},
   "outputs": [],
   "source": [
    "visualizer = ConfusionMatrix(MultinomialNB(), classes=[10,15,20,25,30,35,40,45,50,55,60])"
   ]
  },
  {
   "cell_type": "code",
   "execution_count": 22,
   "metadata": {},
   "outputs": [
    {
     "data": {
      "image/png": "[encoded data removed]",
      "text/plain": [
       "<Figure size 576x396 with 1 Axes>"
      ]
     },
     "metadata": {},
     "output_type": "display_data"
    }
   ],
   "source": [
    "visualizer.fit(cv_data, y_train)  # Fit the training data to the visualizer\n",
    "visualizer.score(cv_test, y_test)  # Evaluate the model on the test data\n",
    "visualizer.poof()"
   ]
  },
  {
   "cell_type": "code",
   "execution_count": 23,
   "metadata": {},
   "outputs": [
    {
     "data": {
      "text/plain": [
       "0.22058823529411764"
      ]
     },
     "execution_count": 23,
     "metadata": {},
     "output_type": "execute_result"
    }
   ],
   "source": [
    "from sklearn.naive_bayes import GaussianNB\n",
    "gnb = GaussianNB()\n",
    "gnb.fit(cv_data.toarray(), y_train)\n",
    "cleaned_test = clean_text(X_test)\n",
    "cv_test = count_vectorizer.transform(cleaned_test)\n",
    "gnb.score(cv_test.toarray(), y_test)\n",
    "# 0.1497005988023952 aug 14 data "
   ]
  },
  {
   "cell_type": "code",
   "execution_count": 24,
   "metadata": {},
   "outputs": [
    {
     "data": {
      "image/png": "[encoded data removed]",
      "text/plain": [
       "<Figure size 576x396 with 2 Axes>"
      ]
     },
     "metadata": {},
     "output_type": "display_data"
    }
   ],
   "source": [
    "visualizer = ClassificationReport(GaussianNB(), classes=[10,15,20,25,30,35,40,45,50,55,60])\n",
    "visualizer.fit(cv_data.toarray(), y_train)  # Fit the training data to the visualizer\n",
    "visualizer.score(cv_test.toarray(), y_test)  # Evaluate the model on the test data\n",
    "visualizer.poof()"
   ]
  },
  {
   "cell_type": "code",
   "execution_count": 25,
   "metadata": {},
   "outputs": [
    {
     "name": "stderr",
     "output_type": "stream",
     "text": [
      "/anaconda3/lib/python3.6/site-packages/sklearn/linear_model/stochastic_gradient.py:128: FutureWarning: max_iter and tol parameters have been added in <class 'sklearn.linear_model.stochastic_gradient.SGDClassifier'> in 0.19. If both are left unset, they default to max_iter=5 and tol=None. If tol is not None, max_iter defaults to max_iter=1000. From 0.21, default max_iter will be 1000, and default tol will be 1e-3.\n",
      "  \"and default tol will be 1e-3.\" % type(self), FutureWarning)\n"
     ]
    },
    {
     "data": {
      "text/plain": [
       "0.3382352941176471"
      ]
     },
     "execution_count": 25,
     "metadata": {},
     "output_type": "execute_result"
    }
   ],
   "source": [
    "from sklearn.linear_model import SGDClassifier\n",
    "sgd = SGDClassifier()\n",
    "sgd.fit(cv_data.toarray(), y_train)\n",
    "cleaned_test = clean_text(X_test)\n",
    "cv_test = count_vectorizer.transform(cleaned_test)\n",
    "sgd.score(cv_test.toarray(), y_test)"
   ]
  },
  {
   "cell_type": "code",
   "execution_count": 26,
   "metadata": {},
   "outputs": [
    {
     "name": "stderr",
     "output_type": "stream",
     "text": [
      "/anaconda3/lib/python3.6/site-packages/sklearn/linear_model/stochastic_gradient.py:128: FutureWarning: max_iter and tol parameters have been added in <class 'sklearn.linear_model.stochastic_gradient.SGDClassifier'> in 0.19. If both are left unset, they default to max_iter=5 and tol=None. If tol is not None, max_iter defaults to max_iter=1000. From 0.21, default max_iter will be 1000, and default tol will be 1e-3.\n",
      "  \"and default tol will be 1e-3.\" % type(self), FutureWarning)\n"
     ]
    },
    {
     "data": {
      "image/png": "[encoded data removed]",
      "text/plain": [
       "<Figure size 576x396 with 2 Axes>"
      ]
     },
     "metadata": {},
     "output_type": "display_data"
    }
   ],
   "source": [
    "visualizer = ClassificationReport(SGDClassifier(), classes=[10,15,20,25,30,35,40,45,50,55,60])\n",
    "visualizer.fit(cv_data, y_train)  # Fit the training data to the visualizer\n",
    "visualizer.score(cv_test, y_test)  # Evaluate the model on the test data\n",
    "visualizer.poof()"
   ]
  },
  {
   "cell_type": "code",
   "execution_count": 27,
   "metadata": {},
   "outputs": [
    {
     "data": {
      "text/plain": [
       "0.4117647058823529"
      ]
     },
     "execution_count": 27,
     "metadata": {},
     "output_type": "execute_result"
    }
   ],
   "source": [
    "from sklearn.linear_model import LogisticRegression\n",
    "lr = LogisticRegression()\n",
    "lr.fit(cv_data.toarray(), y_train)\n",
    "cleaned_test = clean_text(X_test)\n",
    "cv_test = count_vectorizer.transform(cleaned_test)\n",
    "lr.score(cv_test.toarray(), y_test)"
   ]
  },
  {
   "cell_type": "code",
   "execution_count": 28,
   "metadata": {},
   "outputs": [
    {
     "data": {
      "image/png": "[encoded data removed]",
      "text/plain": [
       "<Figure size 576x396 with 1 Axes>"
      ]
     },
     "metadata": {},
     "output_type": "display_data"
    }
   ],
   "source": [
    "visualizer = ConfusionMatrix(LogisticRegression(), classes=[10,15,20,25,30,35,40,45,50,55,60])\n",
    "visualizer.fit(cv_data, y_train)  # Fit the training data to the visualizer\n",
    "visualizer.score(cv_test, y_test)  # Evaluate the model on the test data\n",
    "visualizer.poof()"
   ]
  },
  {
   "cell_type": "code",
   "execution_count": 29,
   "metadata": {},
   "outputs": [
    {
     "name": "stderr",
     "output_type": "stream",
     "text": [
      "/anaconda3/lib/python3.6/site-packages/sklearn/metrics/classification.py:1135: UndefinedMetricWarning: Precision and F-score are ill-defined and being set to 0.0 in labels with no predicted samples.\n",
      "  'precision', 'predicted', average, warn_for)\n"
     ]
    },
    {
     "data": {
      "image/png": "[encoded data removed]",
      "text/plain": [
       "<Figure size 576x396 with 2 Axes>"
      ]
     },
     "metadata": {},
     "output_type": "display_data"
    }
   ],
   "source": [
    "visualizer = ClassificationReport(LogisticRegression(), classes=[10,15,20,25,30,35,40,45,50,55,60])\n",
    "visualizer.fit(cv_data, y_train)  # Fit the training data to the visualizer\n",
    "visualizer.score(cv_test, y_test)  # Evaluate the model on the test data\n",
    "visualizer.poof()"
   ]
  },
  {
   "cell_type": "code",
   "execution_count": 30,
   "metadata": {},
   "outputs": [],
   "source": [
    "#we are going to save the logistics regression model and the list of the words\n",
    "# in pickle files for an app usage\n",
    "import pickle\n",
    "pickle.dump(lr,open(\"./data/slogpred.p\",\"wb\")) # saving the model to use in the app \n",
    "pickle.dump(columns,open(\"./data/colonnes.p\",\"wb\")) # saving the expression to use in the model"
   ]
  },
  {
   "cell_type": "code",
   "execution_count": null,
   "metadata": {},
   "outputs": [],
   "source": []
  }
 ],
 "metadata": {
  "kernelspec": {
   "display_name": "Python 3",
   "language": "python",
   "name": "python3"
  },
  "language_info": {
   "codemirror_mode": {
    "name": "ipython",
    "version": 3
   },
   "file_extension": ".py",
   "mimetype": "text/x-python",
   "name": "python",
   "nbconvert_exporter": "python",
   "pygments_lexer": "ipython3",
   "version": "3.6.5"
  }
 },
 "nbformat": 4,
 "nbformat_minor": 2
}
