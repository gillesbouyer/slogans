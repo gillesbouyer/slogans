{
 "cells": [
  {
   "cell_type": "code",
   "execution_count": 14,
   "metadata": {},
   "outputs": [],
   "source": [
    "import pickle\n",
    "import numpy as np"
   ]
  },
  {
   "cell_type": "code",
   "execution_count": 15,
   "metadata": {},
   "outputs": [],
   "source": [
    "lr= pickle.load(open(\"./data/slogpred.p\",\"rb\"))\n",
    "columns= pickle.load(open(\"./data/colonnes.p\",\"rb\"))\n",
    "m = len(columns)"
   ]
  },
  {
   "cell_type": "code",
   "execution_count": 16,
   "metadata": {},
   "outputs": [
    {
     "data": {
      "text/plain": [
       "['bob builder', 'strang', 'cartoon type thing']"
      ]
     },
     "execution_count": 16,
     "metadata": {},
     "output_type": "execute_result"
    }
   ],
   "source": [
    "from nltk.corpus import stopwords\n",
    "from nltk.stem import porter\n",
    "import string\n",
    "stemmer = porter.PorterStemmer()\n",
    "\n",
    "stopwords = stopwords.words()\n",
    "def clean_text(text):\n",
    "    cleaned_text = []\n",
    "    for post in text:\n",
    "        cleaned_words = []\n",
    "        post = post.replace(\"’\",'')\n",
    "        for punc in string.punctuation:\n",
    "            post = post.replace(punc,'')\n",
    "        for word in post.split():\n",
    "            low_word = stemmer.stem(word.lower())\n",
    "            if low_word not in stopwords:\n",
    "                cleaned_words.append(low_word)\n",
    "        cleaned_text.append(' '.join(cleaned_words))\n",
    "    return cleaned_text\n",
    "\n",
    "clean_text(['BOB the builder', 'is a strange', 'caRtoon type thing'])"
   ]
  },
  {
   "cell_type": "code",
   "execution_count": 21,
   "metadata": {},
   "outputs": [],
   "source": [
    "from nltk.tokenize import word_tokenize\n",
    "def predictcigs(texte):\n",
    "    text_propre = clean_text(texte)\n",
    "    S = word_tokenize((text_propre)[0])\n",
    "    VS = np.zeros((1,len(columns)))\n",
    "    for a in S:\n",
    "        j = columns.index(a)\n",
    "        print(\"j\",j)\n",
    "        VS[0,j] = VS[0,j] + 1\n",
    "        print(lr.predict(VS))\n",
    "    return lr.predict(VS).mean()\n"
   ]
  },
  {
   "cell_type": "code",
   "execution_count": 22,
   "metadata": {},
   "outputs": [
    {
     "name": "stdout",
     "output_type": "stream",
     "text": [
      "j 833\n",
      "[1]\n",
      "j 818\n",
      "[1]\n",
      "j 877\n",
      "[6]\n"
     ]
    },
    {
     "data": {
      "text/plain": [
       "6.0"
      ]
     },
     "execution_count": 22,
     "metadata": {},
     "output_type": "execute_result"
    }
   ],
   "source": [
    "texte = [\"People. Passion. Possibilities.\"]\n",
    "predictcigs(texte)"
   ]
  },
  {
   "cell_type": "code",
   "execution_count": null,
   "metadata": {},
   "outputs": [],
   "source": []
  }
 ],
 "metadata": {
  "kernelspec": {
   "display_name": "Python 3",
   "language": "python",
   "name": "python3"
  },
  "language_info": {
   "codemirror_mode": {
    "name": "ipython",
    "version": 3
   },
   "file_extension": ".py",
   "mimetype": "text/x-python",
   "name": "python",
   "nbconvert_exporter": "python",
   "pygments_lexer": "ipython3",
   "version": "3.6.5"
  }
 },
 "nbformat": 4,
 "nbformat_minor": 2
}
